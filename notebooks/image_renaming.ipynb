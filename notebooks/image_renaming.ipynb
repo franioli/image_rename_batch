{
 "cells": [
  {
   "attachments": {},
   "cell_type": "markdown",
   "metadata": {},
   "source": [
    "#### Import modules and define parameters\n"
   ]
  },
  {
   "cell_type": "code",
   "execution_count": 1,
   "metadata": {},
   "outputs": [],
   "source": [
    "from pathlib import Path\n",
    "\n",
    "import pandas as pd\n",
    "\n",
    "from impreproc.images import Image, ImageList\n",
    "from impreproc.renaming import ImageRenamer\n",
    "\n",
    "# Define parameters\n",
    "# Note that in Jupyter Notebooks, the path are relative to the notebooks folder!\n",
    "\n",
    "# Image path. It can be a single folder containing all images or a folder cointiaing subfolders with the images (recursive option must be set to True)\n",
    "data_dir = Path(\"/mnt/labmgf/2023/Sulzano2/img\")\n",
    "\n",
    "# Path to the prior classes file (optional). It is a .csv file with two columns: \"name\" and \"class\", without the header. If present, a column \"class\" will be added to the output Pandas Dataframe\n",
    "prior_class_file = data_dir / \"prior_classes.csv\"\n",
    "\n",
    "# Define extensions of the file to read as a list of strings. \n",
    "# It can be a single file extension [\"JPG\"] or multiples extensions [\"jpg\", \"PNG\", \"DNG\"] \n",
    "image_ext = [\"jpg\"] \n",
    "\n",
    "# Read images recursively in subbofolders\n",
    "recursive = True\n",
    "\n",
    "# Destination folder\n",
    "dest_folder = Path(\"/mnt/labmgf/2023/Sulzano2/img/renamed\")\n",
    "\n",
    "# Base name for the renamed images  \n",
    "base_name = \"IMG\"\n",
    "\n",
    "# Add a progressive ID after the base name\n",
    "progressive_id = True\n",
    "\n",
    "# Overlay name on the image\n",
    "overlay_name = True\n",
    "\n",
    "# Delete original files\n",
    "delete_original = False\n",
    "\n",
    "# Process images in parallel using all the cores available in the machine for speed up the process (it only works when progressive_id is False)\n",
    "parallel = True"
   ]
  },
  {
   "attachments": {},
   "cell_type": "markdown",
   "metadata": {},
   "source": [
    "#### Get list of files\n"
   ]
  },
  {
   "cell_type": "code",
   "execution_count": 2,
   "metadata": {},
   "outputs": [
    {
     "name": "stdout",
     "output_type": "stream",
     "text": [
      "/mnt/labmgf/2023/Sulzano2/img/D800/JPG/_DSC1548.JPG\n",
      "/mnt/labmgf/2023/Sulzano2/img/D800/JPG/_DSC1549.JPG\n",
      "/mnt/labmgf/2023/Sulzano2/img/D800/JPG/_DSC1550.JPG\n",
      "/mnt/labmgf/2023/Sulzano2/img/D800/JPG/_DSC1551.JPG\n",
      "/mnt/labmgf/2023/Sulzano2/img/D800/JPG/_DSC1552.JPG\n"
     ]
    }
   ],
   "source": [
    "# Get image list\n",
    "files = ImageList(data_dir, image_ext=image_ext, recursive=recursive)\n",
    "\n",
    "# See first 5 files to check if everything is ok\n",
    "files.head"
   ]
  },
  {
   "attachments": {},
   "cell_type": "markdown",
   "metadata": {},
   "source": [
    "#### Rename images and saving output to Pandas df"
   ]
  },
  {
   "cell_type": "code",
   "execution_count": 3,
   "metadata": {},
   "outputs": [
    {
     "name": "stderr",
     "output_type": "stream",
     "text": [
      "  0%|          | 0/1908 [00:00<?, ?it/s]WARNING:root:Unable to get GPS coordinates from exif from image _DSC1548.JPG.\n",
      "  0%|          | 1/1908 [00:00<25:05,  1.27it/s]WARNING:root:Unable to get GPS coordinates from exif from image _DSC1549.JPG.\n",
      "  0%|          | 2/1908 [00:01<30:16,  1.05it/s]WARNING:root:Unable to get GPS coordinates from exif from image _DSC1550.JPG.\n",
      "  0%|          | 3/1908 [00:02<23:19,  1.36it/s]WARNING:root:Unable to get GPS coordinates from exif from image _DSC1551.JPG.\n",
      "  0%|          | 4/1908 [00:02<20:40,  1.53it/s]WARNING:root:Unable to get GPS coordinates from exif from image _DSC1552.JPG.\n",
      "  0%|          | 5/1908 [00:03<18:14,  1.74it/s]WARNING:root:Unable to get GPS coordinates from exif from image _DSC1553.JPG.\n",
      "  0%|          | 6/1908 [00:03<17:21,  1.83it/s]WARNING:root:Unable to get GPS coordinates from exif from image _DSC1554.JPG.\n",
      "  0%|          | 7/1908 [00:04<17:32,  1.81it/s]WARNING:root:Unable to get GPS coordinates from exif from image _DSC1555.JPG.\n",
      "  0%|          | 8/1908 [00:04<17:27,  1.81it/s]WARNING:root:Unable to get GPS coordinates from exif from image _DSC1556.JPG.\n",
      "  0%|          | 9/1908 [00:05<15:53,  1.99it/s]WARNING:root:Unable to get GPS coordinates from exif from image _DSC1557.JPG.\n",
      "  1%|          | 10/1908 [00:05<15:37,  2.02it/s]WARNING:root:Unable to get GPS coordinates from exif from image _DSC1558.JPG.\n",
      "  1%|          | 11/1908 [00:06<14:23,  2.20it/s]WARNING:root:Unable to get GPS coordinates from exif from image _DSC1559.JPG.\n",
      "  1%|          | 12/1908 [00:06<14:18,  2.21it/s]WARNING:root:Unable to get GPS coordinates from exif from image _DSC1560.JPG.\n",
      "  1%|          | 13/1908 [00:07<15:10,  2.08it/s]WARNING:root:Unable to get GPS coordinates from exif from image _DSC1561.JPG.\n",
      "  1%|          | 14/1908 [00:07<16:38,  1.90it/s]WARNING:root:Unable to get GPS coordinates from exif from image _DSC1562.JPG.\n",
      "  1%|          | 15/1908 [00:08<15:44,  2.00it/s]WARNING:root:Unable to get GPS coordinates from exif from image _DSC1563.JPG.\n",
      "  1%|          | 16/1908 [00:08<14:39,  2.15it/s]WARNING:root:Unable to get GPS coordinates from exif from image _DSC1564.JPG.\n",
      "  1%|          | 17/1908 [00:09<15:33,  2.03it/s]WARNING:root:Unable to get GPS coordinates from exif from image _DSC1565.JPG.\n",
      "  1%|          | 18/1908 [00:09<17:11,  1.83it/s]WARNING:root:Unable to get GPS coordinates from exif from image _DSC1566.JPG.\n",
      "  1%|          | 19/1908 [00:10<16:10,  1.95it/s]WARNING:root:Unable to get GPS coordinates from exif from image _DSC1567.JPG.\n",
      "  1%|          | 20/1908 [00:10<15:25,  2.04it/s]WARNING:root:Unable to get GPS coordinates from exif from image _DSC1568.JPG.\n",
      "  1%|          | 21/1908 [00:11<13:56,  2.26it/s]WARNING:root:Unable to get GPS coordinates from exif from image _DSC1569.JPG.\n",
      "  1%|          | 22/1908 [00:11<13:39,  2.30it/s]WARNING:root:Unable to get GPS coordinates from exif from image _DSC1570.JPG.\n",
      "  1%|          | 23/1908 [00:11<12:42,  2.47it/s]WARNING:root:Unable to get GPS coordinates from exif from image _DSC1571.JPG.\n",
      "  1%|▏         | 24/1908 [00:12<13:12,  2.38it/s]WARNING:root:Unable to get GPS coordinates from exif from image _DSC1572.JPG.\n",
      "  1%|▏         | 25/1908 [00:12<13:09,  2.38it/s]WARNING:root:Unable to get GPS coordinates from exif from image _DSC1573.JPG.\n",
      "  1%|▏         | 26/1908 [00:13<13:49,  2.27it/s]WARNING:root:Unable to get GPS coordinates from exif from image _DSC1574.JPG.\n",
      "  1%|▏         | 27/1908 [00:13<14:45,  2.12it/s]WARNING:root:Unable to get GPS coordinates from exif from image _DSC1575.JPG.\n",
      "  1%|▏         | 28/1908 [00:14<16:44,  1.87it/s]WARNING:root:Unable to get GPS coordinates from exif from image _DSC1576.JPG.\n",
      "  2%|▏         | 29/1908 [00:14<16:11,  1.93it/s]WARNING:root:Unable to get GPS coordinates from exif from image _DSC1577.JPG.\n",
      "  2%|▏         | 30/1908 [00:15<15:03,  2.08it/s]WARNING:root:Unable to get GPS coordinates from exif from image _DSC1578.JPG.\n",
      "  2%|▏         | 31/1908 [00:15<14:03,  2.22it/s]WARNING:root:Unable to get GPS coordinates from exif from image _DSC1579.JPG.\n",
      "  2%|▏         | 32/1908 [00:16<14:02,  2.23it/s]WARNING:root:Unable to get GPS coordinates from exif from image _DSC1580.JPG.\n",
      "  2%|▏         | 33/1908 [00:16<13:17,  2.35it/s]WARNING:root:Unable to get GPS coordinates from exif from image _DSC1583.JPG.\n",
      "  2%|▏         | 34/1908 [00:16<12:03,  2.59it/s]WARNING:root:Unable to get GPS coordinates from exif from image _DSC1585.JPG.\n",
      "  2%|▏         | 35/1908 [00:16<10:58,  2.85it/s]WARNING:root:Unable to get GPS coordinates from exif from image _DSC1589.JPG.\n",
      "  2%|▏         | 36/1908 [00:17<09:33,  3.26it/s]WARNING:root:Unable to get GPS coordinates from exif from image _DSC1590.JPG.\n",
      "  2%|▏         | 37/1908 [00:17<08:57,  3.48it/s]WARNING:root:Unable to get GPS coordinates from exif from image _DSC1591.JPG.\n",
      "  2%|▏         | 38/1908 [00:17<08:13,  3.79it/s]WARNING:root:Unable to get GPS coordinates from exif from image _DSC1592.JPG.\n",
      "  2%|▏         | 39/1908 [00:17<08:41,  3.58it/s]WARNING:root:Unable to get GPS coordinates from exif from image _DSC1593.JPG.\n",
      "  2%|▏         | 40/1908 [00:18<07:57,  3.91it/s]WARNING:root:Unable to get GPS coordinates from exif from image _DSC1594.JPG.\n",
      "  2%|▏         | 41/1908 [00:18<08:28,  3.67it/s]WARNING:root:Unable to get GPS coordinates from exif from image _DSC1595.JPG.\n",
      "  2%|▏         | 42/1908 [00:18<08:55,  3.48it/s]WARNING:root:Unable to get GPS coordinates from exif from image _DSC1596.JPG.\n",
      "  2%|▏         | 43/1908 [00:19<09:19,  3.33it/s]WARNING:root:Unable to get GPS coordinates from exif from image _DSC1597.JPG.\n",
      "  2%|▏         | 44/1908 [00:19<09:57,  3.12it/s]WARNING:root:Unable to get GPS coordinates from exif from image _DSC1598.JPG.\n",
      "  2%|▏         | 45/1908 [00:22<33:25,  1.08s/it]WARNING:root:Unable to get GPS coordinates from exif from image _DSC1599.JPG.\n",
      "  2%|▏         | 46/1908 [00:22<28:32,  1.09it/s]WARNING:root:Unable to get GPS coordinates from exif from image _DSC1600.JPG.\n",
      "  2%|▏         | 47/1908 [00:23<23:25,  1.32it/s]WARNING:root:Unable to get GPS coordinates from exif from image _DSC1601.JPG.\n",
      "  3%|▎         | 48/1908 [00:23<20:26,  1.52it/s]WARNING:root:Unable to get GPS coordinates from exif from image _DSC1603.JPG.\n",
      "  3%|▎         | 49/1908 [00:24<17:36,  1.76it/s]WARNING:root:Unable to get GPS coordinates from exif from image _DSC1607.JPG.\n",
      "  3%|▎         | 50/1908 [00:24<17:20,  1.79it/s]WARNING:root:Unable to get GPS coordinates from exif from image _DSC1608.JPG.\n",
      "  3%|▎         | 51/1908 [00:25<17:54,  1.73it/s]WARNING:root:Unable to get GPS coordinates from exif from image _DSC1609.JPG.\n",
      "  3%|▎         | 52/1908 [00:25<16:38,  1.86it/s]WARNING:root:Unable to get GPS coordinates from exif from image _DSC1610.JPG.\n",
      "  3%|▎         | 53/1908 [00:26<15:45,  1.96it/s]WARNING:root:Unable to get GPS coordinates from exif from image _DSC1611.JPG.\n",
      "  3%|▎         | 54/1908 [00:26<14:48,  2.09it/s]WARNING:root:Unable to get GPS coordinates from exif from image _DSC1612.JPG.\n",
      "  3%|▎         | 55/1908 [00:27<15:23,  2.01it/s]WARNING:root:Unable to get GPS coordinates from exif from image _DSC1613.JPG.\n",
      "  3%|▎         | 56/1908 [00:27<15:18,  2.02it/s]WARNING:root:Unable to get GPS coordinates from exif from image _DSC1619.JPG.\n",
      "  3%|▎         | 57/1908 [00:28<16:18,  1.89it/s]WARNING:root:Unable to get GPS coordinates from exif from image _DSC1620.JPG.\n",
      "  3%|▎         | 58/1908 [00:28<17:22,  1.78it/s]WARNING:root:Unable to get GPS coordinates from exif from image _DSC1621.JPG.\n",
      "  3%|▎         | 59/1908 [00:29<18:52,  1.63it/s]WARNING:root:Unable to get GPS coordinates from exif from image _DSC1622.JPG.\n",
      "  3%|▎         | 60/1908 [00:30<18:23,  1.67it/s]WARNING:root:Unable to get GPS coordinates from exif from image _DSC1623.JPG.\n",
      "  3%|▎         | 61/1908 [00:30<18:21,  1.68it/s]WARNING:root:Unable to get GPS coordinates from exif from image _DSC1624.JPG.\n",
      "  3%|▎         | 62/1908 [00:31<19:27,  1.58it/s]WARNING:root:Unable to get GPS coordinates from exif from image _DSC1625.JPG.\n",
      "  3%|▎         | 63/1908 [00:31<18:18,  1.68it/s]WARNING:root:Unable to get GPS coordinates from exif from image _DSC1626.JPG.\n",
      "  3%|▎         | 64/1908 [00:32<17:35,  1.75it/s]WARNING:root:Unable to get GPS coordinates from exif from image _DSC1627.JPG.\n",
      "  3%|▎         | 65/1908 [00:33<18:00,  1.71it/s]WARNING:root:Unable to get GPS coordinates from exif from image _DSC1628.JPG.\n",
      "  3%|▎         | 66/1908 [00:33<18:09,  1.69it/s]WARNING:root:Unable to get GPS coordinates from exif from image _DSC1629.JPG.\n",
      "  4%|▎         | 67/1908 [00:34<18:03,  1.70it/s]WARNING:root:Unable to get GPS coordinates from exif from image _DSC1630.JPG.\n",
      "  4%|▎         | 68/1908 [00:34<16:00,  1.91it/s]WARNING:root:Unable to get GPS coordinates from exif from image _DSC1632.JPG.\n",
      "  4%|▎         | 69/1908 [00:34<14:06,  2.17it/s]WARNING:root:Unable to get GPS coordinates from exif from image _DSC1633.JPG.\n",
      "  4%|▎         | 70/1908 [00:35<13:34,  2.26it/s]WARNING:root:Unable to get GPS coordinates from exif from image _DSC1634.JPG.\n",
      "  4%|▎         | 71/1908 [00:35<13:02,  2.35it/s]WARNING:root:Unable to get GPS coordinates from exif from image _DSC1635.JPG.\n",
      "  4%|▍         | 72/1908 [00:36<17:08,  1.79it/s]WARNING:root:Unable to get GPS coordinates from exif from image _DSC1636.JPG.\n",
      "  4%|▍         | 73/1908 [00:36<15:01,  2.03it/s]WARNING:root:Unable to get GPS coordinates from exif from image _DSC1637.JPG.\n",
      "  4%|▍         | 74/1908 [00:37<14:07,  2.16it/s]WARNING:root:Unable to get GPS coordinates from exif from image _DSC1639.JPG.\n",
      "  4%|▍         | 75/1908 [00:37<15:52,  1.92it/s]WARNING:root:Unable to get GPS coordinates from exif from image _DSC1640.JPG.\n",
      "  4%|▍         | 76/1908 [00:38<15:54,  1.92it/s]WARNING:root:Unable to get GPS coordinates from exif from image _DSC1641.JPG.\n"
     ]
    }
   ],
   "source": [
    "# Create ImageRenamer object\n",
    "renamer = ImageRenamer(\n",
    "    image_list=files,\n",
    "    dest_folder=dest_folder,\n",
    "    base_name=base_name,\n",
    "    progressive_ids=progressive_id,\n",
    "    delete_original=delete_original,\n",
    "    # parallel=parallel,\n",
    "    # prior_class_file=prior_class_file,\n",
    ")\n",
    "\n",
    "# Rename files and get Pandas Dataframe with old and new names\n",
    "df = renamer.rename()\n",
    "\n",
    "# Save Pandas Dataframe as .csv and .parquet file\n",
    "df.to_csv(dest_folder/\"renaming_dict.csv\", index=False)\n",
    "df.to_parquet(dest_folder/\"renaming_dict.parquet\")"
   ]
  },
  {
   "attachments": {},
   "cell_type": "markdown",
   "metadata": {},
   "source": [
    "#### Make previews for Potree"
   ]
  },
  {
   "cell_type": "code",
   "execution_count": null,
   "metadata": {},
   "outputs": [],
   "source": [
    "# Make previews for Potree by overlaying the name on the image\n",
    "# This method is not fully implemented yet (resizing and normalizing by the focal length is missing)\n",
    "renamer.make_previews(dest_folder=dest_folder / \"previews\")"
   ]
  }
 ],
 "metadata": {
  "kernelspec": {
   "display_name": "imgpreproc",
   "language": "python",
   "name": "python3"
  },
  "language_info": {
   "codemirror_mode": {
    "name": "ipython",
    "version": 3
   },
   "file_extension": ".py",
   "mimetype": "text/x-python",
   "name": "python",
   "nbconvert_exporter": "python",
   "pygments_lexer": "ipython3",
   "version": "3.9.16"
  },
  "orig_nbformat": 4
 },
 "nbformat": 4,
 "nbformat_minor": 2
}
