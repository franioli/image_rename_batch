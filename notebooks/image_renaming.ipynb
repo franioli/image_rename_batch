{
 "cells": [
  {
   "attachments": {},
   "cell_type": "markdown",
   "metadata": {},
   "source": [
    "#### Import modules and define parameters\n"
   ]
  },
  {
   "cell_type": "code",
   "execution_count": 6,
   "metadata": {},
   "outputs": [],
   "source": [
    "from pathlib import Path\n",
    "\n",
    "import pandas as pd\n",
    "\n",
    "from impreproc.images import Image, ImageList\n",
    "from impreproc.renaming import ImageRenamer\n",
    "\n",
    "# Define parameters\n",
    "# Note that in Jupyter Notebooks, the path are relative to the notebooks folder!\n",
    "\n",
    "# Image path. It can be a single folder containing all images or a folder cointiaing subfolders with the images (recursive option must be set to True)\n",
    "data_dir = Path(\"../data/renaming/\")\n",
    "\n",
    "# Path to the prior classes file (optional). It is a .csv file with two columns: \"name\" and \"class\", without the header. If present, a column \"class\" will be added to the output Pandas Dataframe\n",
    "prior_class_file = data_dir / \"prior_classes.csv\"\n",
    "\n",
    "# Define extensions of the file to read as a list of strings. \n",
    "# It can be a single file extension [\"JPG\"] or multiples extensions [\"jpg\", \"PNG\", \"DNG\"] \n",
    "image_ext = [\"jpg\"] \n",
    "\n",
    "# Read images recursively in subbofolders\n",
    "recursive = True\n",
    "\n",
    "# Destination folder\n",
    "dest_folder = Path(\"../res/renamed/\")\n",
    "\n",
    "# Base name for the renamed images  \n",
    "base_name = \"IMG\"\n",
    "\n",
    "# Add a progressive ID after the base name\n",
    "progressive_id = True\n",
    "\n",
    "# Overlay name on the image\n",
    "overlay_name = True\n",
    "\n",
    "# Delete original files\n",
    "delete_original = False\n",
    "\n",
    "# Process images in parallel using all the cores available in the machine for speed up the process (it only works when progressive_id is False)\n",
    "parallel = True"
   ]
  },
  {
   "attachments": {},
   "cell_type": "markdown",
   "metadata": {},
   "source": [
    "#### Get list of files\n"
   ]
  },
  {
   "cell_type": "code",
   "execution_count": 7,
   "metadata": {},
   "outputs": [
    {
     "name": "stdout",
     "output_type": "stream",
     "text": [
      "../data/renaming/d800/_DSC1549.JPG\n",
      "../data/renaming/d800/_DSC1550.JPG\n",
      "../data/renaming/d800/_DSC1551.JPG\n",
      "../data/renaming/d800/_DSC1552.JPG\n",
      "../data/renaming/d800/_DSC1553.JPG\n"
     ]
    }
   ],
   "source": [
    "# Get image list\n",
    "files = ImageList(data_dir, image_ext=image_ext, recursive=recursive)\n",
    "\n",
    "# See first 5 files to check if everything is ok\n",
    "files.head"
   ]
  },
  {
   "attachments": {},
   "cell_type": "markdown",
   "metadata": {},
   "source": [
    "#### Rename images and saving output to Pandas df"
   ]
  },
  {
   "cell_type": "code",
   "execution_count": 9,
   "metadata": {},
   "outputs": [
    {
     "name": "stderr",
     "output_type": "stream",
     "text": [
      "  0%|          | 0/33 [00:00<?, ?it/s]WARNING:root:Unable to get GPS coordinates from exif from image _DSC1549.JPG.\n",
      "WARNING:root:Unable to get GPS coordinates from exif from image _DSC1550.JPG.\n",
      "WARNING:root:Unable to get GPS coordinates from exif from image _DSC1551.JPG.\n",
      "WARNING:root:Unable to get GPS coordinates from exif from image _DSC1552.JPG.\n",
      "WARNING:root:Unable to get GPS coordinates from exif from image _DSC1553.JPG.\n",
      "WARNING:root:Unable to get GPS coordinates from exif from image _DSC1554.JPG.\n",
      "100%|██████████| 33/33 [00:00<00:00, 122.89it/s]\n"
     ]
    }
   ],
   "source": [
    "# Create ImageRenamer object\n",
    "renamer = ImageRenamer(\n",
    "    image_list=files,\n",
    "    dest_folder=dest_folder,\n",
    "    base_name=base_name,\n",
    "    progressive_ids=progressive_id,\n",
    "    delete_original=delete_original,\n",
    "    # parallel=parallel,\n",
    "    # prior_class_file=prior_class_file,\n",
    ")\n",
    "\n",
    "# Rename files and get Pandas Dataframe with old and new names\n",
    "df = renamer.rename()\n",
    "\n",
    "# Save Pandas Dataframe as .csv and .parquet file\n",
    "df.to_csv(dest_folder/\"renaming_dict.csv\", index=False)\n",
    "df.to_parquet(dest_folder/\"renaming_dict.parquet\")"
   ]
  },
  {
   "cell_type": "code",
   "execution_count": 10,
   "metadata": {},
   "outputs": [],
   "source": [
    "# Save Pandas Dataframe as .csv and .parquet file\n",
    "df.to_csv(dest_folder/\"renaming_dict.csv\", index=False)\n",
    "df.to_parquet(dest_folder/\"renaming_dict.parquet\")"
   ]
  },
  {
   "attachments": {},
   "cell_type": "markdown",
   "metadata": {},
   "source": [
    "#### Make previews for Potree"
   ]
  },
  {
   "cell_type": "code",
   "execution_count": null,
   "metadata": {},
   "outputs": [],
   "source": [
    "# Make previews for Potree by overlaying the name on the image\n",
    "# This method is not fully implemented yet (resizing and normalizing by the focal length is missing)\n",
    "# renamer.make_previews(dest_folder=dest_folder / \"previews\")"
   ]
  }
 ],
 "metadata": {
  "kernelspec": {
   "display_name": "imgpreproc",
   "language": "python",
   "name": "python3"
  },
  "language_info": {
   "codemirror_mode": {
    "name": "ipython",
    "version": 3
   },
   "file_extension": ".py",
   "mimetype": "text/x-python",
   "name": "python",
   "nbconvert_exporter": "python",
   "pygments_lexer": "ipython3",
   "version": "3.9.16"
  },
  "orig_nbformat": 4
 },
 "nbformat": 4,
 "nbformat_minor": 2
}
