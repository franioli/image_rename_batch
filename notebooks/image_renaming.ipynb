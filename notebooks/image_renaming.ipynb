{
 "cells": [
  {
   "cell_type": "code",
   "execution_count": 2,
   "metadata": {},
   "outputs": [],
   "source": [
    "%load_ext autoreload\n",
    "%autoreload 2\n",
    "\n",
    "from pathlib import Path\n",
    "\n",
    "import pandas as pd\n",
    "\n",
    "from impreproc.images import Image, ImageList\n",
    "from impreproc.renaming import ImageRenamer\n",
    "\n",
    "# Define parameters\n",
    "# Note that in notebooks, the path are relative to the notebooks folder!\n",
    "data_dir = Path(\"../data/renaming\")\n",
    "image_ext = [\"jpg\"]\n",
    "dest_folder = Path(\"../res/renamed\")\n",
    "base_name = \"IMG\"\n",
    "recursive = True\n",
    "delete_original = False\n",
    "overlay_name = True\n",
    "parallel = True\n",
    "\n",
    "# Get list of files\n",
    "files = ImageList(data_dir, image_ext=image_ext, recursive=recursive)"
   ]
  },
  {
   "attachments": {},
   "cell_type": "markdown",
   "metadata": {},
   "source": [
    "Fast rename   "
   ]
  },
  {
   "cell_type": "code",
   "execution_count": 2,
   "metadata": {},
   "outputs": [
    {
     "name": "stderr",
     "output_type": "stream",
     "text": [
      "WARNING:root:Destination folder ../res/renamed already exists. Existing files may be overwritten.\n",
      "33it [00:00, 79.03it/s]\n"
     ]
    },
    {
     "data": {
      "text/plain": [
       "True"
      ]
     },
     "execution_count": 2,
     "metadata": {},
     "output_type": "execute_result"
    }
   ],
   "source": [
    "# Create ImageRenamer object\n",
    "renamer = ImageRenamer(\n",
    "    image_list=files,\n",
    "    dest_folder=dest_folder,\n",
    "    base_name=base_name,\n",
    "    delete_original=delete_original,\n",
    "    parallel=parallel,\n",
    "    )\n",
    "renamer.rename_fast()"
   ]
  },
  {
   "attachments": {},
   "cell_type": "markdown",
   "metadata": {},
   "source": [
    "Rename with overlay and saving output to pd df"
   ]
  },
  {
   "cell_type": "code",
   "execution_count": 3,
   "metadata": {},
   "outputs": [
    {
     "name": "stderr",
     "output_type": "stream",
     "text": [
      "WARNING:root:Destination folder ../res/renamed already exists. Existing files may be overwritten.\n",
      "33it [00:03, 10.99it/s]\n"
     ]
    }
   ],
   "source": [
    "# Create ImageRenamer object\n",
    "renamer = ImageRenamer(\n",
    "    image_list=files,\n",
    "    dest_folder=dest_folder,\n",
    "    base_name=base_name,\n",
    "    delete_original=delete_original,\n",
    "    overlay_name=overlay_name,\n",
    "    parallel=parallel,\n",
    ")\n",
    "\n",
    "# Rename files\n",
    "dic = renamer.rename()\n",
    "\n",
    "# Save renaming dictionary\n",
    "df = pd.DataFrame.from_dict(dic, orient=\"index\")\n",
    "df.to_csv(dest_folder/\"renaming_dict.csv\", index=False)\n"
   ]
  },
  {
   "cell_type": "code",
   "execution_count": 29,
   "metadata": {},
   "outputs": [
    {
     "name": "stdout",
     "output_type": "stream",
     "text": [
      "NIKON D800\n",
      "array([[4.10027855e+03, 0.00000000e+00, 3.68000000e+03],\n",
      "       [0.00000000e+00, 4.10027855e+03, 2.45600000e+03],\n",
      "       [0.00000000e+00, 0.00000000e+00, 1.00000000e+00]])\n"
     ]
    }
   ],
   "source": [
    "# Test for img calibration\n",
    "\n",
    "from pprint import pprint\n",
    "\n",
    "id = 0\n",
    "img = Image(files[id])\n",
    "print(img.exif[\"Image Model\"])\n",
    "K = img.get_intrinsics_from_exif()\n",
    "pprint(K)\n"
   ]
  }
 ],
 "metadata": {
  "kernelspec": {
   "display_name": "imgpreproc",
   "language": "python",
   "name": "python3"
  },
  "language_info": {
   "codemirror_mode": {
    "name": "ipython",
    "version": 3
   },
   "file_extension": ".py",
   "mimetype": "text/x-python",
   "name": "python",
   "nbconvert_exporter": "python",
   "pygments_lexer": "ipython3",
   "version": "3.9.16"
  },
  "orig_nbformat": 4
 },
 "nbformat": 4,
 "nbformat_minor": 2
}
