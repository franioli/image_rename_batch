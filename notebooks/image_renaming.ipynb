{
 "cells": [
  {
   "attachments": {},
   "cell_type": "markdown",
   "metadata": {},
   "source": [
    "#### Import modules and define parameters\n"
   ]
  },
  {
   "cell_type": "code",
   "execution_count": 48,
   "metadata": {},
   "outputs": [
    {
     "name": "stdout",
     "output_type": "stream",
     "text": [
      "The autoreload extension is already loaded. To reload it, use:\n",
      "  %reload_ext autoreload\n"
     ]
    }
   ],
   "source": [
    "%load_ext autoreload\n",
    "%autoreload 2\n",
    "\n",
    "from pathlib import Path\n",
    "\n",
    "import pandas as pd\n",
    "\n",
    "from impreproc.images import Image, ImageList\n",
    "from impreproc.renaming import ImageRenamer\n",
    "\n",
    "# Note that in notebooks, the path are relative to the notebooks folder!\n",
    "data_dir = Path(\"../data/renaming\")\n",
    "\n",
    "# Define extensions of the file to read as a list of strings. \n",
    "# It can be a single file extension [\"JPG\"] or multiples extensions [\"jpg\", \"PNG\", \"DNG\"] \n",
    "image_ext = [\"jpg\"] \n",
    "\n",
    "# Read images recursively in subbofolders\n",
    "recursive = True\n",
    "\n",
    "# Destination folder\n",
    "dest_folder = Path(\"../res/renamed\")\n",
    "\n",
    "# Base name for the renamed images  \n",
    "base_name = \"IMG\"\n",
    "\n",
    "# Overlay name on the image\n",
    "overlay_name = True\n",
    "\n",
    "# Delete original files\n",
    "delete_original = False\n",
    "\n",
    "# Process images in parallel using all the cores available in the machine\n",
    "parallel = True"
   ]
  },
  {
   "attachments": {},
   "cell_type": "markdown",
   "metadata": {},
   "source": [
    "#### Get list of files\n"
   ]
  },
  {
   "cell_type": "code",
   "execution_count": 49,
   "metadata": {},
   "outputs": [],
   "source": [
    "files = ImageList(data_dir, image_ext=image_ext, recursive=recursive)"
   ]
  },
  {
   "attachments": {},
   "cell_type": "markdown",
   "metadata": {},
   "source": [
    "#### Rename images and saving output to Pandas df"
   ]
  },
  {
   "cell_type": "code",
   "execution_count": 51,
   "metadata": {},
   "outputs": [
    {
     "name": "stderr",
     "output_type": "stream",
     "text": [
      "WARNING:root:Destination folder ../res/renamed already exists. Existing files may be overwritten.\n",
      "0it [00:00, ?it/s]WARNING:root:Unable to get GPS coordinates from exif from image _DSC1550.JPG.\n",
      "WARNING:root:Unable to get GPS coordinates from exif from image _DSC1552.JPG.\n",
      "WARNING:root:Unable to get GPS coordinates from exif from image _DSC1553.JPG.\n",
      "WARNING:root:Unable to get GPS coordinates from exif from image _DSC1554.JPG.\n",
      "WARNING:root:Unable to get GPS coordinates from exif from image _DSC1549.JPG.\n",
      "WARNING:root:Unable to get GPS coordinates from exif from image _DSC1551.JPG.\n",
      "33it [00:04,  7.91it/s]\n"
     ]
    }
   ],
   "source": [
    "# Create ImageRenamer object\n",
    "renamer = ImageRenamer(\n",
    "    image_list=files,\n",
    "    dest_folder=dest_folder,\n",
    "    base_name=base_name,\n",
    "    delete_original=delete_original,\n",
    "    overlay_name=overlay_name,\n",
    "    parallel=parallel,\n",
    ")\n",
    "\n",
    "# Rename files and get dictionary with old and new names\n",
    "dic = renamer.rename()\n",
    "\n",
    "# Convert dictionary to Pandas Dataframe and save it as .csv and .parquet file\n",
    "df = pd.DataFrame.from_dict(dic, orient=\"index\")\n",
    "df.to_csv(dest_folder/\"renaming_dict.csv\", index=False)\n",
    "df.to_parquet(dest_folder/\"renaming_dict.parquet\")"
   ]
  }
 ],
 "metadata": {
  "kernelspec": {
   "display_name": "imgpreproc",
   "language": "python",
   "name": "python3"
  },
  "language_info": {
   "codemirror_mode": {
    "name": "ipython",
    "version": 3
   },
   "file_extension": ".py",
   "mimetype": "text/x-python",
   "name": "python",
   "nbconvert_exporter": "python",
   "pygments_lexer": "ipython3",
   "version": "3.9.16"
  },
  "orig_nbformat": 4
 },
 "nbformat": 4,
 "nbformat_minor": 2
}
