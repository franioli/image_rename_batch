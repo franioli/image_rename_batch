{
 "cells": [
  {
   "cell_type": "code",
   "execution_count": 5,
   "metadata": {},
   "outputs": [
    {
     "name": "stdout",
     "output_type": "stream",
     "text": [
      "The autoreload extension is already loaded. To reload it, use:\n",
      "  %reload_ext autoreload\n"
     ]
    }
   ],
   "source": [
    "%load_ext autoreload\n",
    "%autoreload 2\n",
    "\n",
    "from tqdm import tqdm\n",
    "\n",
    "from impreproc.images import Image, ImageList\n",
    "from impreproc.raw_conversion import convert_raw, RawConverter\n",
    "\n",
    "# Raw Conversion with Rawtherapee\n",
    "data_dir = \"../data/conversion/mantova/\"\n",
    "image_ext = \"dng\"\n",
    "output_dir = \"../res/converted\"\n",
    "pp3_path = \"../data/conversion/dji_p1_lightContrast_amaze0px.pp3\"\n",
    "recursive = False\n",
    "rawtherapee_opts = (\"-j100\", \"-js3\", \"-Y\")\n",
    "\n",
    "# Get list of files\n",
    "files = ImageList(data_dir, image_ext=image_ext, recursive=recursive)"
   ]
  },
  {
   "attachments": {},
   "cell_type": "markdown",
   "metadata": {},
   "source": [
    "Convert raw files"
   ]
  },
  {
   "cell_type": "code",
   "execution_count": null,
   "metadata": {},
   "outputs": [],
   "source": [
    "# Convert single image\n",
    "# ret = convert_raw(files[0], pp3_path, \"-j100\", \"-js3\", \"-Y\")"
   ]
  },
  {
   "cell_type": "code",
   "execution_count": 6,
   "metadata": {},
   "outputs": [],
   "source": [
    "# Batch convert images\n",
    "converter = RawConverter(\n",
    "    image_list=files,\n",
    "    output_dir=output_dir,\n",
    "    pp3_path=pp3_path,\n",
    ")\n",
    "converter.convert(*rawtherapee_opts)"
   ]
  }
 ],
 "metadata": {
  "kernelspec": {
   "display_name": "imgpreproc",
   "language": "python",
   "name": "python3"
  },
  "language_info": {
   "codemirror_mode": {
    "name": "ipython",
    "version": 3
   },
   "file_extension": ".py",
   "mimetype": "text/x-python",
   "name": "python",
   "nbconvert_exporter": "python",
   "pygments_lexer": "ipython3",
   "version": "3.9.16"
  },
  "orig_nbformat": 4
 },
 "nbformat": 4,
 "nbformat_minor": 2
}
