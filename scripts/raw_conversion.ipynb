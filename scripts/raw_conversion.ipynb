{
 "cells": [
  {
   "cell_type": "code",
   "execution_count": 33,
   "metadata": {},
   "outputs": [
    {
     "name": "stdout",
     "output_type": "stream",
     "text": [
      "The autoreload extension is already loaded. To reload it, use:\n",
      "  %reload_ext autoreload\n"
     ]
    }
   ],
   "source": [
    "%load_ext autoreload\n",
    "%autoreload 2\n",
    "\n",
    "from tqdm import tqdm\n",
    "\n",
    "from impreproc.images import Image, ImageList\n",
    "from impreproc.raw_conversion import convert_raw, RawConverter\n",
    "\n",
    "# Raw Conversion with Rawtherapee\n",
    "data_dir = \"../data/conversion/\"\n",
    "image_ext = \"dng\"\n",
    "output_dir = \"../res/converted\"\n",
    "pp3_path = \"../data/conversion/dji_p1_lightContrast_amaze0px.pp3\"\n",
    "recursive = True\n",
    "rawtherapee_opts = (\"-j100\", \"-js3\", \"-Y\")\n",
    "\n",
    "# Get list of files\n",
    "files = ImageList(data_dir, image_ext=image_ext, recursive=recursive)"
   ]
  },
  {
   "attachments": {},
   "cell_type": "markdown",
   "metadata": {},
   "source": [
    "Convert raw files"
   ]
  },
  {
   "cell_type": "code",
   "execution_count": 25,
   "metadata": {},
   "outputs": [
    {
     "name": "stdout",
     "output_type": "stream",
     "text": [
      "True\n"
     ]
    }
   ],
   "source": [
    "# Examples for convert single image with convert_raw function\n",
    "\n",
    "# To convert a raw image file named 'my_raw_image.CR2' to JPEG format with 90% compression, apply a pp3 processing profile \n",
    "ret = convert_raw(files[0], output_dir, pp3_path)\n",
    "print(ret)\n",
    "\n",
    "\n",
    "# Convert a raw image file named 'my_raw_image.CR2' to 16 bit TIF format and apply a pp3 processing profile\n",
    "ret = convert_raw(files[0], output_dir, pp3_path, '-t', '-b8', \"-Y\")\n",
    "print(ret)"
   ]
  },
  {
   "cell_type": "code",
   "execution_count": 2,
   "metadata": {},
   "outputs": [
    {
     "name": "stderr",
     "output_type": "stream",
     "text": [
      "29it [02:15,  4.67s/it]\n"
     ]
    },
    {
     "data": {
      "text/plain": [
       "True"
      ]
     },
     "execution_count": 2,
     "metadata": {},
     "output_type": "execute_result"
    }
   ],
   "source": [
    "# Batch convert images with RawConverter class\n",
    "converter = RawConverter(\n",
    "    image_list=files,\n",
    "    output_dir=output_dir,\n",
    "    pp3_path=pp3_path,\n",
    "    keep_dir_tree=True,\n",
    ")\n",
    "converter.convert(*rawtherapee_opts)"
   ]
  }
 ],
 "metadata": {
  "kernelspec": {
   "display_name": "imgpreproc",
   "language": "python",
   "name": "python3"
  },
  "language_info": {
   "codemirror_mode": {
    "name": "ipython",
    "version": 3
   },
   "file_extension": ".py",
   "mimetype": "text/x-python",
   "name": "python",
   "nbconvert_exporter": "python",
   "pygments_lexer": "ipython3",
   "version": "3.9.16"
  },
  "orig_nbformat": 4
 },
 "nbformat": 4,
 "nbformat_minor": 2
}
